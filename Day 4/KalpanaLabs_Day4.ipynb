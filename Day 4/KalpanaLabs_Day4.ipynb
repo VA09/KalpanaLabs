{
  "nbformat": 4,
  "nbformat_minor": 0,
  "metadata": {
    "colab": {
      "name": "KalpanaLabs_Day4.ipynb",
      "provenance": [],
      "authorship_tag": "ABX9TyO4Q4kBisNa8DKKucD43Fte",
      "include_colab_link": true
    },
    "kernelspec": {
      "name": "python3",
      "display_name": "Python 3"
    }
  },
  "cells": [
    {
      "cell_type": "markdown",
      "metadata": {
        "id": "view-in-github",
        "colab_type": "text"
      },
      "source": [
        "<a href=\"https://colab.research.google.com/github/ekdnam/KalpanaLabs/blob/master/Day%204/KalpanaLabs_Day4.ipynb\" target=\"_parent\"><img src=\"https://colab.research.google.com/assets/colab-badge.svg\" alt=\"Open In Colab\"/></a>"
      ]
    },
    {
      "cell_type": "markdown",
      "metadata": {
        "id": "uU_mBzsrRIYX",
        "colab_type": "text"
      },
      "source": [
        "# Strings 🧵\n",
        "\n",
        "What are strings?\n",
        "\n",
        "When Python 🐍 wants to store text, it creates a variable called _string_. A string's sole purpose is to hold text for the programming. It can hold anything - from nothing at all ('') to enough to fill up all the memory on your computer."
      ]
    },
    {
      "cell_type": "markdown",
      "metadata": {
        "id": "N8fQeEJUWbhY",
        "colab_type": "text"
      },
      "source": [
        "## Create a string\n",
        "\n",
        "A string is declared in the following way.\n",
        "\n",
        "**variableName = \"{value}\"**\n",
        "\n",
        "OR\n",
        "\n",
        "**variableName = '{value}'**"
      ]
    },
    {
      "cell_type": "code",
      "metadata": {
        "id": "zhSFCf-iIeZu",
        "colab_type": "code",
        "colab": {}
      },
      "source": [
        "# declaring your name, age, birthdate, and birthYear as variables\n",
        "\n",
        "yourName = \"Aditya\" # ENTER CODE HERE\n",
        "\n",
        "age = \"21\" # ENTER CODE HERE\n",
        "\n",
        "birthDate = \"30 November\" # ENTER CODE HERE\n",
        "\n",
        "birthYear = \"1999\" # ENTER CODE HERE"
      ],
      "execution_count": 8,
      "outputs": []
    },
    {
      "cell_type": "markdown",
      "metadata": {
        "id": "fbSjCV9VXJVz",
        "colab_type": "text"
      },
      "source": [
        "Now a little bit of magic!"
      ]
    },
    {
      "cell_type": "code",
      "metadata": {
        "id": "hsqA8xvNXPQS",
        "colab_type": "code",
        "colab": {
          "base_uri": "https://localhost:8080/",
          "height": 87
        },
        "outputId": "2e602496-777b-4a1a-847a-38c3d9b7e0d0"
      },
      "source": [
        "print(\"My name is \" + yourName  + \"! \")\n",
        "print(\"My age is \" + age + \".\")\n",
        "print(\"I was born on \" + birthDate + \".\")\n",
        "print(\"The year was \" + birthYear + \".\")"
      ],
      "execution_count": 10,
      "outputs": [
        {
          "output_type": "stream",
          "text": [
            "My name is Aditya! \n",
            "My age is 21.\n",
            "I was born on 30 November.\n",
            "The year was 1999.\n"
          ],
          "name": "stdout"
        }
      ]
    },
    {
      "cell_type": "markdown",
      "metadata": {
        "id": "IBTQpYnZYaKR",
        "colab_type": "text"
      },
      "source": [
        "### Analysis of the code. What does the print statement here do?"
      ]
    },
    {
      "cell_type": "code",
      "metadata": {
        "id": "P-1mtRmWXZV5",
        "colab_type": "code",
        "colab": {}
      },
      "source": [
        ""
      ],
      "execution_count": null,
      "outputs": []
    },
    {
      "cell_type": "markdown",
      "metadata": {
        "id": "SyWT7Qw9ahf5",
        "colab_type": "text"
      },
      "source": [
        "# String-Formatting Methods\n",
        "\n",
        "\n",
        "\n",
        "---\n",
        "|Method|Description|Example|\n",
        "|------|-----------|-------|\n",
        "|.upper()|Converts all letters to capital letters|'HELLO WORLD'|\n",
        "|.lower()|Converts all letters to lower case|'hello world'|\n",
        "|.capitalize()|Converts first letter in a string to uppercase and converts the rest layers to lowercase|'Hello world'|\n",
        "|.title()|Converts the first letter, and every letter after a punctuation or space, to uppercase. The other letters are converted to lowercase|'Hello World'|\n",
        "\n",
        "\n"
      ]
    },
    {
      "cell_type": "markdown",
      "metadata": {
        "id": "XwqIE_nvc27n",
        "colab_type": "text"
      },
      "source": [
        "## Apply the methods\n",
        "\n",
        "We are going to apply the methods on a very famous line from the movie, Harry Potter and the Chamber of Secrets.\n",
        "\n",
        "The line is below👇\n"
      ]
    },
    {
      "cell_type": "code",
      "metadata": {
        "id": "WQ6AQkuicebW",
        "colab_type": "code",
        "colab": {}
      },
      "source": [
        "line = \"It is our choices, Harry, that show what we truly are, far more than our abilities.\""
      ],
      "execution_count": 11,
      "outputs": []
    },
    {
      "cell_type": "markdown",
      "metadata": {
        "id": "clqWsthTePen",
        "colab_type": "text"
      },
      "source": [
        "Now print the line"
      ]
    },
    {
      "cell_type": "code",
      "metadata": {
        "id": "rJQPNqGjeOBz",
        "colab_type": "code",
        "colab": {}
      },
      "source": [
        "# ENTER CODE HERE\n"
      ],
      "execution_count": 12,
      "outputs": []
    },
    {
      "cell_type": "markdown",
      "metadata": {
        "id": "Lv8ceNhJed4s",
        "colab_type": "text"
      },
      "source": [
        "## .upper() method\n",
        "\n",
        "Applying the **.upper()** method on the string"
      ]
    },
    {
      "cell_type": "code",
      "metadata": {
        "id": "08TS9URHec1j",
        "colab_type": "code",
        "colab": {}
      },
      "source": [
        "lineUpper = line.upper()"
      ],
      "execution_count": 13,
      "outputs": []
    },
    {
      "cell_type": "markdown",
      "metadata": {
        "id": "g3yY7zOHe0RX",
        "colab_type": "text"
      },
      "source": [
        "Now print the new variable"
      ]
    },
    {
      "cell_type": "code",
      "metadata": {
        "id": "GOmPz3efeyh3",
        "colab_type": "code",
        "colab": {}
      },
      "source": [
        "# ENTER CODE HERE\n"
      ],
      "execution_count": 14,
      "outputs": []
    },
    {
      "cell_type": "markdown",
      "metadata": {
        "id": "NcAZCh9ie8pW",
        "colab_type": "text"
      },
      "source": [
        "## .lower() method\n",
        "\n",
        "Applying the **.lower()** method on the string"
      ]
    },
    {
      "cell_type": "code",
      "metadata": {
        "id": "EbFnLbOke6Ju",
        "colab_type": "code",
        "colab": {}
      },
      "source": [
        "lineLower = line.lower()"
      ],
      "execution_count": 15,
      "outputs": []
    },
    {
      "cell_type": "markdown",
      "metadata": {
        "id": "k5bKTh-7fLGE",
        "colab_type": "text"
      },
      "source": [
        "Now print the new variable"
      ]
    },
    {
      "cell_type": "code",
      "metadata": {
        "id": "7KB0OOOSfJEB",
        "colab_type": "code",
        "colab": {}
      },
      "source": [
        "# ENTER CODE HERE\n"
      ],
      "execution_count": 16,
      "outputs": []
    },
    {
      "cell_type": "markdown",
      "metadata": {
        "id": "KIqcSGLhfUXC",
        "colab_type": "text"
      },
      "source": [
        "## .capitalize() method\n",
        "\n",
        "Applying the **.capitalize()** method on the string"
      ]
    },
    {
      "cell_type": "code",
      "metadata": {
        "id": "N_gkFVM3fSBv",
        "colab_type": "code",
        "colab": {}
      },
      "source": [
        "lineCapitalize = line.capitalize()"
      ],
      "execution_count": 17,
      "outputs": []
    },
    {
      "cell_type": "markdown",
      "metadata": {
        "id": "sIScHEM8fhm1",
        "colab_type": "text"
      },
      "source": [
        "Now print the new variable"
      ]
    },
    {
      "cell_type": "code",
      "metadata": {
        "id": "gtsRb8sdfgho",
        "colab_type": "code",
        "colab": {}
      },
      "source": [
        "# ENTER CODE HERE\n"
      ],
      "execution_count": 18,
      "outputs": []
    },
    {
      "cell_type": "markdown",
      "metadata": {
        "id": "vh5fglv0fnxH",
        "colab_type": "text"
      },
      "source": [
        "## .title() method\n",
        "\n",
        "Applying the **.title()** method on the string"
      ]
    },
    {
      "cell_type": "code",
      "metadata": {
        "id": "LfsMJyaTfm4u",
        "colab_type": "code",
        "colab": {}
      },
      "source": [
        "lineTitle = line.title()"
      ],
      "execution_count": 19,
      "outputs": []
    },
    {
      "cell_type": "markdown",
      "metadata": {
        "id": "roo0-jPXfySt",
        "colab_type": "text"
      },
      "source": [
        "Now print the new variable"
      ]
    },
    {
      "cell_type": "code",
      "metadata": {
        "id": "62AijXHsfxVN",
        "colab_type": "code",
        "colab": {}
      },
      "source": [
        "# ENTER CODE HERE\n"
      ],
      "execution_count": 20,
      "outputs": []
    },
    {
      "cell_type": "markdown",
      "metadata": {
        "id": "eGmlKVrSf7AY",
        "colab_type": "text"
      },
      "source": [
        "# Try it yourself!\n",
        "\n",
        "Seems that we have seen some of the basic string methods in Python!\n",
        "\n",
        "Now create a string variable of your own and apply these methods on them!"
      ]
    },
    {
      "cell_type": "code",
      "metadata": {
        "id": "pNe5LQaSf27V",
        "colab_type": "code",
        "colab": {}
      },
      "source": [
        ""
      ],
      "execution_count": null,
      "outputs": []
    },
    {
      "cell_type": "code",
      "metadata": {
        "id": "iscwvz14hH2a",
        "colab_type": "code",
        "colab": {}
      },
      "source": [
        ""
      ],
      "execution_count": null,
      "outputs": []
    },
    {
      "cell_type": "code",
      "metadata": {
        "id": "0aJGfHHahIlP",
        "colab_type": "code",
        "colab": {}
      },
      "source": [
        ""
      ],
      "execution_count": null,
      "outputs": []
    },
    {
      "cell_type": "code",
      "metadata": {
        "id": "lX7jqRYPhIP7",
        "colab_type": "code",
        "colab": {}
      },
      "source": [
        ""
      ],
      "execution_count": null,
      "outputs": []
    },
    {
      "cell_type": "code",
      "metadata": {
        "id": "C6gSQ7uZhHh7",
        "colab_type": "code",
        "colab": {}
      },
      "source": [
        ""
      ],
      "execution_count": null,
      "outputs": []
    },
    {
      "cell_type": "markdown",
      "metadata": {
        "id": "34vD6kkqgsnI",
        "colab_type": "text"
      },
      "source": [
        "# References\n",
        "\n",
        "SamsTeachYourself Python - Katie Cunningham (Pearson)"
      ]
    }
  ]
}