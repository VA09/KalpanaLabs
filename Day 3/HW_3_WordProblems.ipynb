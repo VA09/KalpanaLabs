{
  "nbformat": 4,
  "nbformat_minor": 0,
  "metadata": {
    "colab": {
      "name": "HW_3_WordProblems.ipynb",
      "provenance": [],
      "authorship_tag": "ABX9TyOFf/7XrRthMQpa6K967rx/",
      "include_colab_link": true
    },
    "kernelspec": {
      "name": "python3",
      "display_name": "Python 3"
    }
  },
  "cells": [
    {
      "cell_type": "markdown",
      "metadata": {
        "id": "view-in-github",
        "colab_type": "text"
      },
      "source": [
        "<a href=\"https://colab.research.google.com/github/ekdnam/KalpanaLabs/blob/master/Day%203/HW_3_WordProblems.ipynb\" target=\"_parent\"><img src=\"https://colab.research.google.com/assets/colab-badge.svg\" alt=\"Open In Colab\"/></a>"
      ]
    },
    {
      "cell_type": "markdown",
      "metadata": {
        "id": "hPoFJlKY1P2j",
        "colab_type": "text"
      },
      "source": [
        "# Below are 3 problems for your practice! And a special riddle 🧐\n",
        "\n",
        "Solve all of them, and get a special prize on Sunday!"
      ]
    },
    {
      "cell_type": "markdown",
      "metadata": {
        "id": "M0V1CVS-1uXH",
        "colab_type": "text"
      },
      "source": [
        "## Problem 1\n",
        "\n",
        "The restaurant has 175 normal chairs and 20 chairs for babies. How many chairs does the restaurant have in total?"
      ]
    },
    {
      "cell_type": "code",
      "metadata": {
        "id": "GRy-n-iw00i3",
        "colab_type": "code",
        "colab": {}
      },
      "source": [
        ""
      ],
      "execution_count": null,
      "outputs": []
    },
    {
      "cell_type": "markdown",
      "metadata": {
        "id": "OFgYFUP22Ct-",
        "colab_type": "text"
      },
      "source": [
        "## Problem 2\n",
        "\n",
        "A clothing company has 4 different kinds of sweatshirts. Each year, the company makes 60,000 of each kind of sweatshirt. How many sweatshirts does the company make each year?"
      ]
    },
    {
      "cell_type": "code",
      "metadata": {
        "id": "NZXM1qLn121c",
        "colab_type": "code",
        "colab": {}
      },
      "source": [
        ""
      ],
      "execution_count": null,
      "outputs": []
    },
    {
      "cell_type": "markdown",
      "metadata": {
        "id": "SDfcsuAd2Zaz",
        "colab_type": "text"
      },
      "source": [
        "## Problem 3\n",
        "\n",
        "It is your birthday party! You have invited 23 friends to the party. As a return gift, each friend is going to get 3 pens. You have bought 70 pens. How many pens will be remaining at the end of the day?"
      ]
    },
    {
      "cell_type": "code",
      "metadata": {
        "id": "AXBPtORT3tU7",
        "colab_type": "code",
        "colab": {}
      },
      "source": [
        ""
      ],
      "execution_count": null,
      "outputs": []
    },
    {
      "cell_type": "markdown",
      "metadata": {
        "id": "n7avRDnN3gwh",
        "colab_type": "text"
      },
      "source": [
        "## Problem 4\n",
        "\n",
        "There is a group of 10 people who are ordering pizza. If each person gets 2 slices and each pizza has 4 slices, how many pizzas should they order?"
      ]
    },
    {
      "cell_type": "code",
      "metadata": {
        "id": "VELBEkhg26Gi",
        "colab_type": "code",
        "colab": {}
      },
      "source": [
        ""
      ],
      "execution_count": null,
      "outputs": []
    },
    {
      "cell_type": "markdown",
      "metadata": {
        "id": "hSDl2tZB3z-F",
        "colab_type": "text"
      },
      "source": [
        "## Problem 5\n",
        "\n",
        "If you have 80 tickets for the fair and each ride costs 5 tickets, how many rides can you go on?"
      ]
    },
    {
      "cell_type": "code",
      "metadata": {
        "id": "l5fA_WYa31hY",
        "colab_type": "code",
        "colab": {}
      },
      "source": [
        ""
      ],
      "execution_count": null,
      "outputs": []
    },
    {
      "cell_type": "markdown",
      "metadata": {
        "id": "V_j7EoHf3394",
        "colab_type": "text"
      },
      "source": [
        "# Now the riddle!\n",
        "\n",
        "What answer can you never answer yes to?"
      ]
    },
    {
      "cell_type": "code",
      "metadata": {
        "id": "L5KX6vVV4BQx",
        "colab_type": "code",
        "colab": {}
      },
      "source": [
        ""
      ],
      "execution_count": null,
      "outputs": []
    }
  ]
}