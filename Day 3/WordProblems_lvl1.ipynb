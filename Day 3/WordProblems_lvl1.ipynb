{
  "nbformat": 4,
  "nbformat_minor": 0,
  "metadata": {
    "colab": {
      "name": "WordProblems-lvl1.ipynb",
      "provenance": [],
      "authorship_tag": "ABX9TyM7HZoWYNXcZPnoFc+d+BM2",
      "include_colab_link": true
    },
    "kernelspec": {
      "name": "python3",
      "display_name": "Python 3"
    }
  },
  "cells": [
    {
      "cell_type": "markdown",
      "metadata": {
        "id": "view-in-github",
        "colab_type": "text"
      },
      "source": [
        "<a href=\"https://colab.research.google.com/github/ekdnam/KalpanaLabs/blob/master/Day%203/WordProblems_lvl1.ipynb\" target=\"_parent\"><img src=\"https://colab.research.google.com/assets/colab-badge.svg\" alt=\"Open In Colab\"/></a>"
      ]
    },
    {
      "cell_type": "markdown",
      "metadata": {
        "id": "NMezGBV3bxKz",
        "colab_type": "text"
      },
      "source": [
        "# Below are 10 word problems, solve them!\n",
        "\n",
        "# Most importantly have fun!\n",
        "\n",
        "The person who solves all the question in the least time will get a special prize! 🏆\n",
        "\n",
        "Any doubts, surely ask me."
      ]
    },
    {
      "cell_type": "markdown",
      "metadata": {
        "id": "KbTjhFbLc8KR",
        "colab_type": "text"
      },
      "source": [
        "# Problems List\n",
        "\n"
      ]
    },
    {
      "cell_type": "markdown",
      "metadata": {
        "id": "MmhJO3Rsb8Th",
        "colab_type": "text"
      },
      "source": [
        "## Problem 1\n",
        "\n",
        "How many cookies did you sell if you sold 320 chocolate cookies and 270 vanilla cookies?\n"
      ]
    },
    {
      "cell_type": "code",
      "metadata": {
        "id": "yFP6wuEhbgdO",
        "colab_type": "code",
        "colab": {}
      },
      "source": [
        ""
      ],
      "execution_count": null,
      "outputs": []
    },
    {
      "cell_type": "markdown",
      "metadata": {
        "id": "7qdXtKuScGNb",
        "colab_type": "text"
      },
      "source": [
        "## Problem 2\n",
        "\n",
        "Nathan has a big ant farm. He decided to sell some of his ants. He started with 965 ants. He sold 213. How many ants does he have now?"
      ]
    },
    {
      "cell_type": "code",
      "metadata": {
        "id": "EWDyiuJPcPkV",
        "colab_type": "code",
        "colab": {}
      },
      "source": [
        ""
      ],
      "execution_count": null,
      "outputs": []
    },
    {
      "cell_type": "markdown",
      "metadata": {
        "id": "pWXNEiR8cUc1",
        "colab_type": "text"
      },
      "source": [
        "## Problem 3\n",
        "\n",
        "Cayley earns $5 an hour by delivering newspapers. She delivers newspapers 3 days each week, for 4 hours at a time. After delivering newspapers for 8 weeks, how much money will Cayley earn?\n"
      ]
    },
    {
      "cell_type": "code",
      "metadata": {
        "id": "dmDtJFNncbFN",
        "colab_type": "code",
        "colab": {}
      },
      "source": [
        ""
      ],
      "execution_count": null,
      "outputs": []
    },
    {
      "cell_type": "markdown",
      "metadata": {
        "id": "Fb26KfwDcwNF",
        "colab_type": "text"
      },
      "source": [
        "**Reminder: Use simple variable names!**"
      ]
    },
    {
      "cell_type": "markdown",
      "metadata": {
        "id": "9MvZK7GfdQaE",
        "colab_type": "text"
      },
      "source": [
        "## Problem 4\n",
        "\n",
        "The hobby store normally sells 10,576 trading cards per month. In June, the hobby store sold 15,498 more trading cards than normal. In total, how many trading cards did the hobby store sell in June?"
      ]
    },
    {
      "cell_type": "markdown",
      "metadata": {
        "id": "Q9lBgv4ydXBl",
        "colab_type": "text"
      },
      "source": [
        "**The greatest part of coding a solution to a problem is that the hard maths parts are taken care of by the computer!**"
      ]
    },
    {
      "cell_type": "code",
      "metadata": {
        "id": "0f0q_nYic1OF",
        "colab_type": "code",
        "colab": {}
      },
      "source": [
        ""
      ],
      "execution_count": null,
      "outputs": []
    },
    {
      "cell_type": "markdown",
      "metadata": {
        "id": "vU4J4_FWdypB",
        "colab_type": "text"
      },
      "source": [
        "## Problem 5\n",
        "\n",
        "Melissa buys 2 packs of tennis balls for $12 in total. All together, there are 6 tennis balls. How much does 1 pack of tennis balls cost? How much does 1 tennis ball cost?"
      ]
    },
    {
      "cell_type": "code",
      "metadata": {
        "id": "XLbwhmXBd1q9",
        "colab_type": "code",
        "colab": {}
      },
      "source": [
        ""
      ],
      "execution_count": null,
      "outputs": []
    },
    {
      "cell_type": "markdown",
      "metadata": {
        "id": "n09J-7IcedCT",
        "colab_type": "text"
      },
      "source": [
        "## Problem 6\n",
        "\n",
        "An Italian restaurant receives a shipment of 86 veal cutlets. If it takes 3 cutlets to make a dish, how many cutlets will the restaurant have left over after making as many dishes as possible?"
      ]
    },
    {
      "cell_type": "code",
      "metadata": {
        "id": "degNFApNeg1f",
        "colab_type": "code",
        "colab": {}
      },
      "source": [
        ""
      ],
      "execution_count": null,
      "outputs": []
    },
    {
      "cell_type": "markdown",
      "metadata": {
        "id": "mrl8aEfFeqcE",
        "colab_type": "text"
      },
      "source": [
        "## Problem 7\n",
        "\n",
        "A bricklayer stacks bricks in 2 rows, with 10 bricks in each row. On top of each row, there is a stack of 6 bricks. How many bricks are there in total?"
      ]
    },
    {
      "cell_type": "code",
      "metadata": {
        "id": "ZIXeuMGZewOg",
        "colab_type": "code",
        "colab": {}
      },
      "source": [
        ""
      ],
      "execution_count": null,
      "outputs": []
    },
    {
      "cell_type": "markdown",
      "metadata": {
        "id": "AT6TTcwXexXI",
        "colab_type": "text"
      },
      "source": [
        "## Problem 8\n",
        "\n",
        "Ashley bought a big bag of candy to share with her friends. In total, there were 296 candies. She gave 105 candies to Marissa. She also gave 86 candies to Kayla. How many candies were left?"
      ]
    },
    {
      "cell_type": "code",
      "metadata": {
        "id": "qc_e3w3He24P",
        "colab_type": "code",
        "colab": {}
      },
      "source": [
        ""
      ],
      "execution_count": null,
      "outputs": []
    },
    {
      "cell_type": "markdown",
      "metadata": {
        "id": "7IjaY6tUe6v6",
        "colab_type": "text"
      },
      "source": [
        "## Problem 9\n",
        "\n",
        "Ashley bought a big bag of candy. The bag had 102 blue candies, 100 red candies and 94 green candies. How many candies were there in total?\n"
      ]
    },
    {
      "cell_type": "code",
      "metadata": {
        "id": "wxu1Co_xfCBX",
        "colab_type": "code",
        "colab": {}
      },
      "source": [
        ""
      ],
      "execution_count": null,
      "outputs": []
    },
    {
      "cell_type": "markdown",
      "metadata": {
        "id": "_eeI_Gc3fEcp",
        "colab_type": "text"
      },
      "source": [
        "## Problem 10\n",
        "\n",
        "Charlene had a pack of 35 pencil crayons. She gave 6 to her friend Theresa. She gave 3 to her friend Mandy. How many pencil crayons does Charlene have left?"
      ]
    },
    {
      "cell_type": "code",
      "metadata": {
        "id": "8q91PWfhfKTD",
        "colab_type": "code",
        "colab": {}
      },
      "source": [
        ""
      ],
      "execution_count": null,
      "outputs": []
    }
  ]
}