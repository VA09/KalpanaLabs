{
  "nbformat": 4,
  "nbformat_minor": 0,
  "metadata": {
    "colab": {
      "name": "WordProblems-lvl2.ipynb",
      "provenance": [],
      "authorship_tag": "ABX9TyNITvNZBimArMU4bTgHjG/S",
      "include_colab_link": true
    },
    "kernelspec": {
      "name": "python3",
      "display_name": "Python 3"
    }
  },
  "cells": [
    {
      "cell_type": "markdown",
      "metadata": {
        "id": "view-in-github",
        "colab_type": "text"
      },
      "source": [
        "<a href=\"https://colab.research.google.com/github/ekdnam/KalpanaLabs/blob/master/Day%203/WordProblems_lvl2.ipynb\" target=\"_parent\"><img src=\"https://colab.research.google.com/assets/colab-badge.svg\" alt=\"Open In Colab\"/></a>"
      ]
    },
    {
      "cell_type": "markdown",
      "metadata": {
        "id": "IbzyKVO0m5-S",
        "colab_type": "text"
      },
      "source": [
        "# **Hi!** \n",
        "\n",
        "I am happy that you completed the level of the problems. You should be proud of yourself!\n",
        "\n",
        "**Welcome to level 2!**\n",
        "\n",
        "The problems here are going to be a little bit difficult than before. Give your best! "
      ]
    },
    {
      "cell_type": "markdown",
      "metadata": {
        "id": "8I9g4nEpnQ44",
        "colab_type": "text"
      },
      "source": [
        "## Problem 1\n",
        "\n",
        "Two numbers differ by 3. The sum of twice the smaller number and thrice the greater number is 19. Find the numbers."
      ]
    },
    {
      "cell_type": "code",
      "metadata": {
        "id": "No-n7NYlkrUR",
        "colab_type": "code",
        "colab": {}
      },
      "source": [
        ""
      ],
      "execution_count": null,
      "outputs": []
    },
    {
      "cell_type": "markdown",
      "metadata": {
        "id": "bkETDrZUnxj4",
        "colab_type": "text"
      },
      "source": [
        "## Problem 2\n",
        "\n",
        "Mother is 25 years older than her son. FInd son's age if after 8 years, ratio of son's age to mother's age will be 4/9."
      ]
    },
    {
      "cell_type": "code",
      "metadata": {
        "id": "bOoEyHPmn9pa",
        "colab_type": "code",
        "colab": {}
      },
      "source": [
        ""
      ],
      "execution_count": null,
      "outputs": []
    },
    {
      "cell_type": "markdown",
      "metadata": {
        "id": "60MozcnKoClk",
        "colab_type": "text"
      },
      "source": [
        "## Problem 3\n",
        "\n",
        "A cricket player scored 180 runs in the first match and 257 runs in the second match. Find number of runs he should score in the third match so that the average of runs in the three matches is 230."
      ]
    },
    {
      "cell_type": "code",
      "metadata": {
        "id": "Z6DegBc2oT9s",
        "colab_type": "code",
        "colab": {}
      },
      "source": [
        ""
      ],
      "execution_count": null,
      "outputs": []
    }
  ]
}